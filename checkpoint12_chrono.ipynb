{
 "cells": [
  {
   "cell_type": "code",
   "execution_count": null,
   "metadata": {},
   "outputs": [],
   "source": [
    "import time"
   ]
  },
  {
   "cell_type": "code",
   "execution_count": null,
   "metadata": {},
   "outputs": [],
   "source": [
    "def countdown(sec):\n",
    "    while sec >= 0:\n",
    "        print(sec, end=\"\\r\")\n",
    "        sec-= 1\n",
    "        time.sleep(1)\n",
    "        if sec == 0:\n",
    "            sec = None\n",
    "            print(\"Fire in the hole!\")\n",
    "            \n",
    "        \n",
    "        \n",
    "countdown(5)"
   ]
  },
  {
   "cell_type": "code",
   "execution_count": null,
   "metadata": {},
   "outputs": [],
   "source": [
    "def setChrono(mn,sec):\n",
    "    mn = mn * 60\n",
    "    sec = sec * 60\n",
    "    minute, second = divmod(mn, sec)\n",
    "    \n",
    "    while minute & second >= 0:\n",
    "        if second == 0:\n",
    "            minute -= 1\n",
    "            second = 59\n",
    "        print(\"{}:{}\".format(str(minute), str(second)), end=\"\\r\")\n",
    "        second -= 1\n",
    "        time.sleep(1)\n",
    "\n",
    "setChrono(2,1)\n",
    "        \n",
    "    "
   ]
  }
 ],
 "metadata": {
  "kernelspec": {
   "display_name": "Python 3",
   "language": "python",
   "name": "python3"
  },
  "language_info": {
   "codemirror_mode": {
    "name": "ipython",
    "version": 3
   },
   "file_extension": ".py",
   "mimetype": "text/x-python",
   "name": "python",
   "nbconvert_exporter": "python",
   "pygments_lexer": "ipython3",
   "version": "3.10.10"
  },
  "orig_nbformat": 4,
  "vscode": {
   "interpreter": {
    "hash": "8bf0d51478355d2251941b3b98616086516a0eddd7c72ee47a3371765770709a"
   }
  }
 },
 "nbformat": 4,
 "nbformat_minor": 2
}
