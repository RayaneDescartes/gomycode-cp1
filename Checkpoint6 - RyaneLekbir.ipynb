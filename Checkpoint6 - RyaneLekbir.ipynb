{
 "cells": [
  {
   "cell_type": "code",
   "execution_count": 5,
   "id": "5d6b4233",
   "metadata": {},
   "outputs": [
    {
     "name": "stdout",
     "output_type": "stream",
     "text": [
      "[array([0, 1, 2]), array([3, 4, 5])]\n"
     ]
    }
   ],
   "source": [
    "import numpy as np\n",
    "\n",
    "arr = np.array([[0,1,2],[3,4,5]])\n",
    "\n",
    "arrList = list(arr)\n",
    "\n",
    "print(arrList)"
   ]
  },
  {
   "cell_type": "code",
   "execution_count": 7,
   "id": "c5e0c7e3",
   "metadata": {
    "scrolled": true
   },
   "outputs": [
    {
     "name": "stdout",
     "output_type": "stream",
     "text": [
      "12\n",
      "12\n"
     ]
    }
   ],
   "source": [
    "arr1 = np.array([[0,1,2],[3,4,5],[6,7,8]])\n",
    "\n",
    "#1st method (manual)\n",
    "print(arr1[0][0] + arr1[1][1] + arr1[2][2])\n",
    "\n",
    "#2nd method (trace() function)\n",
    "print(np.trace(arr1))"
   ]
  },
  {
   "cell_type": "code",
   "execution_count": 13,
   "id": "ceca4427",
   "metadata": {},
   "outputs": [
    {
     "name": "stdout",
     "output_type": "stream",
     "text": [
      "[3 5]\n"
     ]
    }
   ],
   "source": [
    "array = np.array([[1,2],[3,5]])\n",
    "\n",
    "x = 2\n",
    "b = array > 2\n",
    "\n",
    "array = array[b]\n",
    "\n",
    "print(array)"
   ]
  },
  {
   "cell_type": "code",
   "execution_count": 14,
   "id": "e781226b",
   "metadata": {},
   "outputs": [
    {
     "name": "stdout",
     "output_type": "stream",
     "text": [
      "[[26 28 30]\n",
      " [32 34 36]]\n"
     ]
    }
   ],
   "source": [
    "a = np.array([[10,11,12],[13,14,15]])\n",
    "b = np.array([[16,17,18],[19,20,21]])\n",
    "\n",
    "c = a + b\n",
    "\n",
    "print(c)"
   ]
  },
  {
   "cell_type": "code",
   "execution_count": 17,
   "id": "17c43a5f",
   "metadata": {
    "scrolled": true
   },
   "outputs": [
    {
     "name": "stdout",
     "output_type": "stream",
     "text": [
      "31.0\n"
     ]
    }
   ],
   "source": [
    "mean = np.mean(c)\n",
    "print(mean)"
   ]
  },
  {
   "cell_type": "code",
   "execution_count": null,
   "id": "d8d94acc",
   "metadata": {},
   "outputs": [],
   "source": []
  }
 ],
 "metadata": {
  "kernelspec": {
   "display_name": "Python 3 (ipykernel)",
   "language": "python",
   "name": "python3"
  },
  "language_info": {
   "codemirror_mode": {
    "name": "ipython",
    "version": 3
   },
   "file_extension": ".py",
   "mimetype": "text/x-python",
   "name": "python",
   "nbconvert_exporter": "python",
   "pygments_lexer": "ipython3",
   "version": "3.9.13"
  }
 },
 "nbformat": 4,
 "nbformat_minor": 5
}
