{
 "cells": [
  {
   "cell_type": "code",
   "execution_count": 4,
   "id": "7540299c",
   "metadata": {},
   "outputs": [],
   "source": [
    "import random"
   ]
  },
  {
   "cell_type": "code",
   "execution_count": 5,
   "id": "726d9af5",
   "metadata": {},
   "outputs": [],
   "source": [
    "def binary_search(array, target):\n",
    "    middle = int(len(array) / 2)\n",
    "    for i in range(len(array) - 1):\n",
    "        if array[middle] == target:\n",
    "            return True\n",
    "        else:\n",
    "            return False"
   ]
  },
  {
   "cell_type": "code",
   "execution_count": 6,
   "id": "634a7568",
   "metadata": {},
   "outputs": [
    {
     "data": {
      "text/plain": [
       "1.5612404657489787e+22"
      ]
     },
     "execution_count": 6,
     "metadata": {},
     "output_type": "execute_result"
    }
   ],
   "source": [
    "table = [1, 2, 3, 5, 8]\n",
    "binary_search(table, 3)\n",
    "\n",
    "a = random.random() * 100\n",
    "b = random.random() * 100 \n",
    "\n",
    "a ** b"
   ]
  },
  {
   "cell_type": "code",
   "execution_count": 7,
   "id": "4edcff35",
   "metadata": {},
   "outputs": [],
   "source": [
    "def bubble_sort(array):\n",
    "    size = 0\n",
    "    for i in range(len(array) - 1):\n",
    "        for j in range(len(array) - 1 - size):\n",
    "            if array[j] > array[j+1]:\n",
    "                array[j], array[j+1] = array[j+1], array[j]\n",
    "        size += 1\n",
    "    return array"
   ]
  },
  {
   "cell_type": "code",
   "execution_count": 8,
   "id": "5bf04cd3",
   "metadata": {},
   "outputs": [
    {
     "data": {
      "text/plain": [
       "[13, 22, 29, 37, 46, 49, 52, 56, 71]"
      ]
     },
     "execution_count": 8,
     "metadata": {},
     "output_type": "execute_result"
    }
   ],
   "source": [
    "table = [29,13,22,37,52,49,46,71,56]\n",
    "\n",
    "bubble_sort(table)"
   ]
  },
  {
   "cell_type": "code",
   "execution_count": 9,
   "id": "3ebcba4b",
   "metadata": {},
   "outputs": [],
   "source": [
    "def merge_sort(array):\n",
    "    if len(array) == 1:\n",
    "        return array\n",
    "    \n",
    "    middle = len(array) // 2\n",
    "    left_array = merge_sort(array[:middle])\n",
    "    right_array = merge_sort(array[middle + 1:len(array) - 1])\n",
    "    \n",
    "    merge = []\n",
    "    i, j = 0, 0\n",
    "    \n",
    "    while i < len(left_array) and j < len(right_array):\n",
    "        if left_array[i] < right_array[j]:\n",
    "            merge.append(left_array[i])\n",
    "            i += 1\n",
    "        \n",
    "        else:\n",
    "            merge.append(right_array[j])\n",
    "            j += 1\n",
    "    \n",
    "    merge.extend(left_array[i:])\n",
    "    merge.extend(right_array[j:])\n",
    "    \n",
    "    return merge"
   ]
  },
  {
   "cell_type": "code",
   "execution_count": null,
   "id": "a2ad4e68",
   "metadata": {},
   "outputs": [],
   "source": [
    "merge_sort(table)"
   ]
  },
  {
   "cell_type": "code",
   "execution_count": null,
   "id": "1970f36b",
   "metadata": {},
   "outputs": [],
   "source": [
    "def quick_sort(array):\n",
    "    pivot = array[len(array - 1)]\n",
    "    less = []\n",
    "    greater = []\n",
    "    \n",
    "    for j in array[:pivot]:\n",
    "        if j < pivot:\n",
    "            less.append(j)\n",
    "        else:\n",
    "            greater.append(j)\n",
    "    \n",
    "    return quick_sort(less) + [pivot] + quick_sort(greater)\n",
    "\n",
    "table = [29,13,22,37,52,49,46,71,56]"
   ]
  },
  {
   "cell_type": "code",
   "execution_count": null,
   "id": "125c2af6",
   "metadata": {},
   "outputs": [],
   "source": [
    "quick_sort(table)"
   ]
  },
  {
   "cell_type": "code",
   "execution_count": null,
   "id": "117d1137",
   "metadata": {},
   "outputs": [],
   "source": []
  }
 ],
 "metadata": {
  "kernelspec": {
   "display_name": "Python 3 (ipykernel)",
   "language": "python",
   "name": "python3"
  },
  "language_info": {
   "codemirror_mode": {
    "name": "ipython",
    "version": 3
   },
   "file_extension": ".py",
   "mimetype": "text/x-python",
   "name": "python",
   "nbconvert_exporter": "python",
   "pygments_lexer": "ipython3",
   "version": "3.9.13"
  }
 },
 "nbformat": 4,
 "nbformat_minor": 5
}
