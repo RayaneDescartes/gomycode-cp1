{
 "cells": [
  {
   "cell_type": "code",
   "execution_count": 1,
   "id": "c1b94f6a",
   "metadata": {},
   "outputs": [
    {
     "name": "stdout",
     "output_type": "stream",
     "text": [
      "['What is Python language?                                                \\n', 'Python is a widely used high-level, general-purpose, interpreted, dynamic programming language.Its design philosophy emphasizes code readability, and its syntax allows programmers to express concepts in fewer lines of code than possible in \\n', 'languages such as C++ or Java. \\n', 'Python supports multiple programming paradigms, including object-oriented, imperative and functional programming or procedural styles. It features a dynamic type system and automatic memory management and has a large and comprehensive standard library.The best way we learn anything is by practice and exercise questions. We  have started this section for those (beginner to intermediate) who are familiar with Python.']\n"
     ]
    }
   ],
   "source": [
    "with open(r\"C:/Users/admin/Downloads/python.txt\",\"r\",encoding=\"utf-8\") as file:\n",
    "    print(file.readlines())"
   ]
  },
  {
   "cell_type": "code",
   "execution_count": 10,
   "id": "5c677f25",
   "metadata": {},
   "outputs": [
    {
     "name": "stdout",
     "output_type": "stream",
     "text": [
      "What is Python language?\n",
      "Python is a widely used high-level, general-purpose, interpreted, dynamic programming language.Its design philosophy emphasizes code readability, and its syntax allows programmers to express concepts in fewer lines of code than possible in\n",
      "languages such as C++ or Java.\n",
      "Python supports multiple programming paradigms, including object-oriented, imperative and functional programming or procedural styles. It features a dynamic type system and automatic memory management and has a large and comprehensive standard library.The best way we learn anything is by practice and exercise questions. We  have started this section for those (beginner to intermediate) who are familiar with Python.\n"
     ]
    }
   ],
   "source": [
    "with open(r\"C:/Users/admin/Downloads/python.txt\",\"r\",encoding=\"utf-8\") as file:\n",
    "        for i in range(5):\n",
    "            line = file.readline().strip()\n",
    "            if line:\n",
    "                print(line)"
   ]
  },
  {
   "cell_type": "code",
   "execution_count": 16,
   "id": "98a0fabb",
   "metadata": {},
   "outputs": [
    {
     "data": {
      "text/plain": [
       "['What is Python language?                                                \\n',\n",
       " 'Python is a widely used high-level, general-purpose, interpreted, dynamic programming language.Its design philosophy emphasizes code readability, and its syntax allows programmers to express concepts in fewer lines of code than possible in \\n',\n",
       " 'languages such as C++ or Java. \\n',\n",
       " 'Python supports multiple programming paradigms, including object-oriented, imperative and functional programming or procedural styles. It features a dynamic type system and automatic memory management and has a large and comprehensive standard library.The best way we learn anything is by practice and exercise questions. We  have started this section for those (beginner to intermediate) who are familiar with Python.']"
      ]
     },
     "execution_count": 16,
     "metadata": {},
     "output_type": "execute_result"
    }
   ],
   "source": [
    "def read_last_n_lines(file_path, n):\n",
    "    with open(file_path, 'r') as f:\n",
    "        lines = f.readlines()\n",
    "        last_n_lines = lines[-n:]\n",
    "    return last_n_lines\n",
    "\n",
    "read_last_n_lines(\"C:/Users/admin/Downloads/python.txt\",5)"
   ]
  },
  {
   "cell_type": "code",
   "execution_count": 25,
   "id": "e696f7f2",
   "metadata": {},
   "outputs": [
    {
     "name": "stdout",
     "output_type": "stream",
     "text": [
      "there is 100 words in the file.\n"
     ]
    }
   ],
   "source": [
    "with open(r\"C:/Users/admin/Downloads/python.txt\",\"r\",encoding=\"utf-8\") as file:\n",
    "    read = file.read()\n",
    "    word = read.split()\n",
    "print(f\"there is {len(word)} words in the file.\")"
   ]
  },
  {
   "cell_type": "code",
   "execution_count": 33,
   "id": "c0398b01",
   "metadata": {},
   "outputs": [],
   "source": [
    "with open(r\"C:/Users/admin/Downloads/python.txt\",\"r\",encoding=\"utf-8\") as file:\n",
    "    last = file.seek(0, 2)\n",
    "    read_file = file.readlines()\n",
    "    for i in range(last, -1):\n",
    "        for k in read_file:\n",
    "            print(k)"
   ]
  },
  {
   "cell_type": "code",
   "execution_count": null,
   "id": "7a09844a",
   "metadata": {},
   "outputs": [],
   "source": []
  }
 ],
 "metadata": {
  "kernelspec": {
   "display_name": "Python 3 (ipykernel)",
   "language": "python",
   "name": "python3"
  },
  "language_info": {
   "codemirror_mode": {
    "name": "ipython",
    "version": 3
   },
   "file_extension": ".py",
   "mimetype": "text/x-python",
   "name": "python",
   "nbconvert_exporter": "python",
   "pygments_lexer": "ipython3",
   "version": "3.9.13"
  }
 },
 "nbformat": 4,
 "nbformat_minor": 5
}
