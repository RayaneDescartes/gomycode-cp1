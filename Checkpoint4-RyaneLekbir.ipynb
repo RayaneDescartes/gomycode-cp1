{
 "cells": [
  {
   "cell_type": "code",
   "execution_count": 1,
   "id": "07abd102",
   "metadata": {},
   "outputs": [
    {
     "data": {
      "text/plain": [
       "35"
      ]
     },
     "execution_count": 1,
     "metadata": {},
     "output_type": "execute_result"
    }
   ],
   "source": [
    "def max(a, b, c):\n",
    "    if a > b and a > c:\n",
    "        return a\n",
    "    elif b > c and b > a:\n",
    "        return b\n",
    "    elif c > a and c > b:\n",
    "        return c\n",
    "max(20, 35, 19)"
   ]
  },
  {
   "cell_type": "code",
   "execution_count": 5,
   "id": "025bd37c",
   "metadata": {},
   "outputs": [
    {
     "data": {
      "text/plain": [
       "'30,50'"
      ]
     },
     "execution_count": 5,
     "metadata": {},
     "output_type": "execute_result"
    }
   ],
   "source": [
    "def calculation(a, b):\n",
    "    if a > b:\n",
    "        c = a - b\n",
    "        d = a + b\n",
    "        return str(c) + \",\" + str(d)\n",
    "    else:\n",
    "        c = b - a\n",
    "        d = a + b\n",
    "    return str(c) + \",\" + str(d)\n",
    "    \n",
    "\n",
    "calculation(40, 10)"
   ]
  },
  {
   "cell_type": "code",
   "execution_count": 49,
   "id": "81da442f",
   "metadata": {
    "scrolled": false
   },
   "outputs": [
    {
     "name": "stdout",
     "output_type": "stream",
     "text": [
      "product of odd numbers in the list:  1\n",
      "sum of even numbers in the list:  4\n"
     ]
    }
   ],
   "source": [
    "evenList = []\n",
    "oddList = []\n",
    "\n",
    "def sumOfList(list):\n",
    "    p = 1\n",
    "    for i in list:\n",
    "        p += 1\n",
    "    return p\n",
    "\n",
    "def prodOfList(list):\n",
    "    p = 1\n",
    "    for i in list:\n",
    "        p *= 1\n",
    "    return p\n",
    "\n",
    "def sumEvenOdd(list):\n",
    "    for i in list:\n",
    "        if i % 2 == 0:\n",
    "            evenList.append(i)\n",
    "        elif i % 2 != 0:\n",
    "            oddList.append(i)\n",
    "            \n",
    "    print(\"product of odd numbers in the list: \",str(prodOfList(oddList)))\n",
    "    print(\"sum of even numbers in the list: \", str(sumOfList(evenList)))\n",
    "    \n",
    "l = [1, 2, 3, 4, 5, 6]\n",
    "\n",
    "sumEvenOdd(l)"
   ]
  },
  {
   "cell_type": "code",
   "execution_count": 78,
   "id": "bccfba92",
   "metadata": {},
   "outputs": [
    {
     "name": "stdout",
     "output_type": "stream",
     "text": [
      "R\n",
      "L\n",
      "C\n"
     ]
    }
   ],
   "source": [
    "def upper_first_letter_dict(dict):\n",
    "    for i in dict.values():\n",
    "        print(i[0].upper())\n",
    "\n",
    "d = {\"firstName\":\"rayane\",\"lastName\":\"lekbir\",\"country_of_residence\":\"casablanca\"}\n",
    "\n",
    "upper_first_letter_dict(d)"
   ]
  },
  {
   "cell_type": "code",
   "execution_count": 112,
   "id": "6a872488",
   "metadata": {},
   "outputs": [
    {
     "name": "stdout",
     "output_type": "stream",
     "text": [
      "blue-green-red-white\n"
     ]
    }
   ],
   "source": [
    "color = \"red blue green white\"\n",
    "\n",
    "sortedColor = sorted(color.split(\" \"))\n",
    "\n",
    "print(\"-\".join(sortedColor))\n",
    "\n"
   ]
  },
  {
   "cell_type": "code",
   "execution_count": 130,
   "id": "d0c655f2",
   "metadata": {},
   "outputs": [
    {
     "name": "stdout",
     "output_type": "stream",
     "text": [
      "enter a number: 100\n",
      "enter a number: 150\n",
      "enter a number: 180\n",
      "[18, 22, 24]\n"
     ]
    }
   ],
   "source": [
    "import math\n",
    "\n",
    "def formula(D):\n",
    "    C = 50\n",
    "    H = 30\n",
    "\n",
    "    Q = math.sqrt((2 * C * D)/H)\n",
    "\n",
    "    return round(Q)\n",
    "\n",
    "#####Implementation#####\n",
    "\n",
    "listI = []\n",
    "for i in range(0, 3):\n",
    "    num = int(input(\"enter a number: \"))\n",
    "    formNum = formula(num)\n",
    "    listI.append(formNum)\n",
    "print(listI)"
   ]
  },
  {
   "cell_type": "markdown",
   "id": "772e721b",
   "metadata": {},
   "source": [
    "#### "
   ]
  },
  {
   "cell_type": "code",
   "execution_count": null,
   "id": "314048f4",
   "metadata": {},
   "outputs": [],
   "source": []
  }
 ],
 "metadata": {
  "kernelspec": {
   "display_name": "Python 3 (ipykernel)",
   "language": "python",
   "name": "python3"
  },
  "language_info": {
   "codemirror_mode": {
    "name": "ipython",
    "version": 3
   },
   "file_extension": ".py",
   "mimetype": "text/x-python",
   "name": "python",
   "nbconvert_exporter": "python",
   "pygments_lexer": "ipython3",
   "version": "3.9.13"
  }
 },
 "nbformat": 4,
 "nbformat_minor": 5
}
