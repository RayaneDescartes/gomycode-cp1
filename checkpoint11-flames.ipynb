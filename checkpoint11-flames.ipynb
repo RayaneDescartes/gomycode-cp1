{
 "cells": [
  {
   "cell_type": "code",
   "execution_count": null,
   "id": "ab58f1cb",
   "metadata": {},
   "outputs": [],
   "source": [
    "name1 = input(\"name1: \")\n",
    "name2 =input(\"name2: \")\n",
    "print(\"-----------------------------\")"
   ]
  },
  {
   "cell_type": "code",
   "execution_count": null,
   "id": "4a8bab2e",
   "metadata": {},
   "outputs": [],
   "source": [
    "setName1 = set(name1)\n",
    "setName2 = set(name2)\n",
    "\n",
    "common_letters = len(setName1.intersection(setName2))\n",
    "total = len(setName1.union(setName2))"
   ]
  },
  {
   "cell_type": "code",
   "execution_count": null,
   "id": "ca201454",
   "metadata": {},
   "outputs": [],
   "source": [
    "flames = [\"F\", \"L\", \"A\", \"M\", \"E\", \"S\"]\n",
    "while(len(flames) >= 2):\n",
    "    if total >= len(flames):\n",
    "        index = total % len(flames)\n",
    "        flames.remove(flames[index])\n",
    "    else:\n",
    "        flames.remove(flames[total])"
   ]
  },
  {
   "cell_type": "code",
   "execution_count": null,
   "id": "7f567830",
   "metadata": {},
   "outputs": [],
   "source": [
    "match(flames[0]):\n",
    "    case \"F\":\n",
    "        print(\"friends\")\n",
    "    case \"L\":\n",
    "        print(\"lovers\")\n",
    "    case \"A\":\n",
    "        print(\"affectionate\")\n",
    "    case \"M\":\n",
    "        print(\"marriage\")\n",
    "    case \"E\":\n",
    "        print(\"enemies\")\n",
    "    case \"S\":\n",
    "        print(\"siblings\")"
   ]
  }
 ],
 "metadata": {
  "kernelspec": {
   "display_name": "Python 3 (ipykernel)",
   "language": "python",
   "name": "python3"
  },
  "language_info": {
   "codemirror_mode": {
    "name": "ipython",
    "version": 3
   },
   "file_extension": ".py",
   "mimetype": "text/x-python",
   "name": "python",
   "nbconvert_exporter": "python",
   "pygments_lexer": "ipython3",
   "version": "3.9.13"
  }
 },
 "nbformat": 4,
 "nbformat_minor": 5
}
