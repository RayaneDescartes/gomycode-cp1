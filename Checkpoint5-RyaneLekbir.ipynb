{
 "cells": [
  {
   "cell_type": "code",
   "execution_count": 1,
   "id": "dd6e7014",
   "metadata": {},
   "outputs": [
    {
     "data": {
      "text/plain": [
       "(1, 2, 3)"
      ]
     },
     "execution_count": 1,
     "metadata": {},
     "output_type": "execute_result"
    }
   ],
   "source": [
    "class Point3D:\n",
    "    x = \"\"\n",
    "    y = \"\"\n",
    "    z = \"\"\n",
    "    \n",
    "    def __init__(self, x, y, z):\n",
    "        self.x = x\n",
    "        self.y = y\n",
    "        self.z = z\n",
    "    def format(self):\n",
    "        return (self.x, self.y, self.z)\n",
    "\n",
    "Point3D = Point3D(1,2,3)\n",
    "Point3D.format()"
   ]
  },
  {
   "cell_type": "code",
   "execution_count": 11,
   "id": "9744d87a",
   "metadata": {},
   "outputs": [
    {
     "name": "stdout",
     "output_type": "stream",
     "text": [
      "Area of rectangle: 12\n",
      "Perimeter of rectangle: 14\n"
     ]
    }
   ],
   "source": [
    "class Rectangle:\n",
    "    l = \"\"\n",
    "    w = \"\"\n",
    "    \n",
    "    def __init__(self, length, width):\n",
    "        self.l = length\n",
    "        self.w = width\n",
    "    \n",
    "    def area(self):\n",
    "        a = self.l * self.w\n",
    "        return a\n",
    "    \n",
    "    def perimeter(self):\n",
    "        p = 2 * (self.l + self.w)\n",
    "        return p\n",
    "\n",
    "Rectangle = Rectangle(4, 3)\n",
    "\n",
    "print(f\"Area of rectangle: {Rectangle.area()}\")\n",
    "print(f\"Perimeter of rectangle: {Rectangle.perimeter()}\")"
   ]
  },
  {
   "cell_type": "code",
   "execution_count": 3,
   "id": "3a94e731",
   "metadata": {},
   "outputs": [
    {
     "data": {
      "text/plain": [
       "False"
      ]
     },
     "execution_count": 3,
     "metadata": {},
     "output_type": "execute_result"
    }
   ],
   "source": [
    "from math import pi, sqrt\n",
    "\n",
    "class Circle:\n",
    "    o = 0\n",
    "    r = None\n",
    "    x = None\n",
    "    y = None\n",
    "    \n",
    "    def __init__(self, radius, x, y):\n",
    "        self.r = radius\n",
    "        self.x = x\n",
    "        self.y = y\n",
    "        \n",
    "    def area(self):\n",
    "        a = pi * pow(self.r, 2)\n",
    "        return a\n",
    "    \n",
    "    def perimeter(self):\n",
    "        p = pi * 2 * self.r\n",
    "        return p\n",
    "    \n",
    "    def isinside(self):\n",
    "        # we know that the center coord. of (0, 0)\n",
    "        d = sqrt(pow(self.x, 2) + pow(self.y , 2))\n",
    "        if self.r == d:\n",
    "            return True\n",
    "        else:\n",
    "            return False\n",
    "\n",
    "\n",
    "Circle = Circle(3, 2, 4)\n",
    "Circle.isinside()\n"
   ]
  },
  {
   "cell_type": "code",
   "execution_count": 19,
   "id": "e5211f2f",
   "metadata": {},
   "outputs": [],
   "source": [
    "class Bank:\n",
    "    balance = 5000\n",
    "    \n",
    "    def deposit(self, money):\n",
    "        if money > 0:\n",
    "            self.balance += money\n",
    "            print(f\"now you have {self.balance}\")\n",
    "        else:\n",
    "            print(\"error!\")\n",
    "    def withdraw(self, money):\n",
    "        if this.balance > money:\n",
    "            self.balance -= money\n",
    "        else:\n",
    "            print(\"error!\")"
   ]
  },
  {
   "cell_type": "code",
   "execution_count": null,
   "id": "d510da7f",
   "metadata": {},
   "outputs": [],
   "source": []
  }
 ],
 "metadata": {
  "kernelspec": {
   "display_name": "Python 3 (ipykernel)",
   "language": "python",
   "name": "python3"
  },
  "language_info": {
   "codemirror_mode": {
    "name": "ipython",
    "version": 3
   },
   "file_extension": ".py",
   "mimetype": "text/x-python",
   "name": "python",
   "nbconvert_exporter": "python",
   "pygments_lexer": "ipython3",
   "version": "3.9.13"
  }
 },
 "nbformat": 4,
 "nbformat_minor": 5
}
