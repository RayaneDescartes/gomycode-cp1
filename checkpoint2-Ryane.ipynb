{
 "cells": [
  {
   "cell_type": "code",
   "execution_count": 4,
   "id": "bb25f6ed",
   "metadata": {
    "scrolled": true
   },
   "outputs": [
    {
     "name": "stdout",
     "output_type": "stream",
     "text": [
      "enter your first name: hilmi\n",
      "enter your last name: rayane\n",
      "e\n",
      "n\n",
      "a\n",
      "y\n",
      "a\n",
      "r\n",
      " \n",
      "i\n",
      "m\n",
      "l\n",
      "i\n",
      "h\n"
     ]
    }
   ],
   "source": [
    "firstName = input(\"enter your first name: \")\n",
    "lastName = input(\"enter your last name: \")\n",
    "\n",
    "fullName = firstName + \" \" + lastName\n",
    "\n",
    "for i in range(len(fullName) - 1, -1, -1):\n",
    "    print(fullName[i])"
   ]
  },
  {
   "cell_type": "code",
   "execution_count": 7,
   "id": "aa5ebf6e",
   "metadata": {},
   "outputs": [
    {
     "name": "stdout",
     "output_type": "stream",
     "text": [
      "what is your name: rayane\n",
      "hello rayane\n"
     ]
    }
   ],
   "source": [
    "name = input(\"what is your name: \")\n",
    "print(\"hello \" + name)"
   ]
  },
  {
   "cell_type": "code",
   "execution_count": 12,
   "id": "1ebf7b8d",
   "metadata": {
    "scrolled": false
   },
   "outputs": [
    {
     "name": "stdout",
     "output_type": "stream",
     "text": [
      "Result:615\n"
     ]
    }
   ],
   "source": [
    "n = 5\n",
    "\n",
    "nn = int(str(n) + str(n))\n",
    "nnn = int(str(n) + str(n) + str(n))\n",
    "\n",
    "result = n + nn + nnn\n",
    "\n",
    "print(\"Result:\"+ str(result))\n"
   ]
  },
  {
   "cell_type": "code",
   "execution_count": null,
   "id": "4c93af5a",
   "metadata": {},
   "outputs": [],
   "source": [
    "#check if the input number is even or odd\n",
    "\n",
    "number = int(input(\"Enter a number: \"))\n",
    "\n",
    "if number % 2 == 0:\n",
    "    print(\"Number \" + str(number) + \" is even\")\n",
    "else :\n",
    "    print(\"Number \" + str(number) + \" is odd\")"
   ]
  },
  {
   "cell_type": "code",
   "execution_count": null,
   "id": "6aad2138",
   "metadata": {},
   "outputs": [],
   "source": [
    "# factorial\n",
    "number = int(input(\"Enter a number: \"))\n",
    "\n",
    "while number > 0 :\n",
    "    number * (number - 1)\n",
    "    number = number - 1"
   ]
  },
  {
   "cell_type": "code",
   "execution_count": null,
   "id": "84766c5e",
   "metadata": {},
   "outputs": [],
   "source": [
    "string = \"hello team\"\n",
    "\n",
    "for i in range(0, len(string), 1):\n",
    "    if i % 2 == 0:\n",
    "        print(string[i])\n",
    "    else :\n",
    "        string[i] == \"\""
   ]
  },
  {
   "cell_type": "code",
   "execution_count": null,
   "id": "4bdc3b55",
   "metadata": {},
   "outputs": [],
   "source": [
    "price = int(input(\"give a price: \"))\n",
    "\n",
    "#If the price is 500 or above, there will be a 50% discount\n",
    "if price >= 500 :\n",
    "    result = price * 5 / 10\n",
    "    print(\"after 50%/ discount, the price will be: \" + str(result) + \" MAD\")\n",
    "\n",
    "#If the price is between 200 and 500 (200 inclusive), there will be a 30% discount\n",
    "elif price >= 200 and price < 500 :\n",
    "    result = price * 3 / 10\n",
    "    print(\"after 30%/ discount, the price will be: \" + str(result) + \" MAD\")\n",
    "    \n",
    "#If the price is less than 200, there will be a 10% discount\n",
    "elif price < 200 :\n",
    "    result = price * 1 / 10\n",
    "    print(\"after 10%/ discount, the price will be: \" + str(result) + \" MAD\")"
   ]
  }
 ],
 "metadata": {
  "kernelspec": {
   "display_name": "Python 3 (ipykernel)",
   "language": "python",
   "name": "python3"
  },
  "language_info": {
   "codemirror_mode": {
    "name": "ipython",
    "version": 3
   },
   "file_extension": ".py",
   "mimetype": "text/x-python",
   "name": "python",
   "nbconvert_exporter": "python",
   "pygments_lexer": "ipython3",
   "version": "3.9.13"
  }
 },
 "nbformat": 4,
 "nbformat_minor": 5
}
