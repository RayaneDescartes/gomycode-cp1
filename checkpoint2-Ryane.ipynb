{
 "cells": [
  {
   "cell_type": "code",
   "execution_count": 4,
   "id": "2bb5ff4c",
   "metadata": {},
   "outputs": [
    {
     "name": "stdout",
     "output_type": "stream",
     "text": [
      "enter your first name: hilmi\n",
      "enter your last name: rayane\n",
      "e\n",
      "n\n",
      "a\n",
      "y\n",
      "a\n",
      "r\n",
      " \n",
      "i\n",
      "m\n",
      "l\n",
      "i\n",
      "h\n"
     ]
    }
   ],
   "source": [
    "firstName = input(\"enter your first name: \")\n",
    "lastName = input(\"enter your last name: \")\n",
    "\n",
    "fullName = firstName + \" \" + lastName\n",
    "\n",
    "for i in range(len(fullName) - 1, -1, -1):\n",
    "    print(fullName[i])"
   ]
  },
  {
   "cell_type": "code",
   "execution_count": null,
   "id": "91f88838",
   "metadata": {},
   "outputs": [],
   "source": []
  }
 ],
 "metadata": {
  "kernelspec": {
   "display_name": "Python 3 (ipykernel)",
   "language": "python",
   "name": "python3"
  },
  "language_info": {
   "codemirror_mode": {
    "name": "ipython",
    "version": 3
   },
   "file_extension": ".py",
   "mimetype": "text/x-python",
   "name": "python",
   "nbconvert_exporter": "python",
   "pygments_lexer": "ipython3",
   "version": "3.9.13"
  }
 },
 "nbformat": 4,
 "nbformat_minor": 5
}
